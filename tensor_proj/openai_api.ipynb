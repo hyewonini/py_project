{
 "cells": [
  {
   "cell_type": "code",
   "execution_count": 92,
   "id": "efff65fe",
   "metadata": {},
   "outputs": [],
   "source": [
    "from dotenv import load_dotenv\n",
    "import os\n",
    "\n",
    "load_dotenv()\n",
    "\n",
    "OPENAI_API_KEY = os.getenv('OPENAI_API_KEY')\n",
    "\n",
    "#print('key:', OPENAI_API_KEY)"
   ]
  },
  {
   "cell_type": "code",
   "execution_count": 93,
   "id": "b7e59371",
   "metadata": {},
   "outputs": [],
   "source": [
    "from openai import OpenAI\n",
    "\n",
    "client = OpenAI(api_key = OPENAI_API_KEY)\n",
    "\n",
    "response = client.responses.create(\n",
    "    model='gpt-4.1',\n",
    "    input='어벤져스 시리즈의 토르의 역할에 대해 한줄로 설명해줘'\n",
    ")"
   ]
  },
  {
   "cell_type": "code",
   "execution_count": 94,
   "id": "66529e41",
   "metadata": {},
   "outputs": [
    {
     "data": {
      "text/plain": [
       "'토르는 북유럽 신화의 천둥의 신으로, 어벤져스 시리즈에서 강력한 힘과 묠니르 망치를 사용해 지구와 우주를 위협으로부터 지키는 슈퍼히어로 역할을 한다.'"
      ]
     },
     "execution_count": 94,
     "metadata": {},
     "output_type": "execute_result"
    }
   ],
   "source": [
    "response.output_text"
   ]
  },
  {
   "cell_type": "code",
   "execution_count": 95,
   "id": "d06a30cc",
   "metadata": {},
   "outputs": [
    {
     "name": "stdout",
     "output_type": "stream",
     "text": [
      "토르는 신의 힘과 인간적인 유머를 겸비해 팀에 강력한 전투력과 따뜻한 매력을 더하는 어벤져스의 핵심 영웅입니다.\n"
     ]
    }
   ],
   "source": [
    "response = client.responses.create(\n",
    "    model='gpt-4.1',\n",
    "    instructions='당신은 영화평론가야',\n",
    "    input=\"어벤져스 시리즈의 토르의 역할에 대해 한줄로 설명해줘\"\n",
    ")\n",
    "print(response.output_text)"
   ]
  },
  {
   "cell_type": "code",
   "execution_count": 96,
   "id": "0d452fc1",
   "metadata": {},
   "outputs": [
    {
     "name": "stdout",
     "output_type": "stream",
     "text": [
      "너무 좋은 질문이야! 어떤 종류의 게임을 하고 싶어?  \n",
      "1. **친구들이랑 같이 할 멀티플레이 게임**  \n",
      "2. **이야기나 세계관이 깊은 싱글 플레이 게임**  \n",
      "3. **빠르고 가벼운 캐주얼 게임**  \n",
      "4. **도전 욕구를 자극하는 경쟁적인 게임**  \n",
      "5. **최근 인기 많은 신작 게임**  \n",
      "\n",
      "조금 더 구체적으로 네가 좋아하는 장르(예: RPG, 전략, FPS, 퍼즐, 시뮬레이션 등)나 가지고 있는 게임기(PC, 콘솔, 모바일, 스위치 등)도 알려주면 딱 맞는 게임을 추천해줄 수 있어!  \n",
      "어떤 게임 스타일이 좋아? 아니면, 오늘 특별히 끌리는 무드(공포, 힐링, 액션, 협동 등)가 있을까?\n"
     ]
    }
   ],
   "source": [
    "response = client.responses.create(\n",
    "    model='gpt-4.1',\n",
    "    input=[\n",
    "        {\n",
    "            'role' : 'developer',\n",
    "            'content' : '게임에 대한 이야기 하는 것을 좋아해'\n",
    "        },\n",
    "        {\n",
    "            'role' : 'user', \n",
    "            'content' : '오늘은 무슨 게임을 할까?'\n",
    "        }]\n",
    ")\n",
    "print(response.output_text)"
   ]
  },
  {
   "cell_type": "code",
   "execution_count": 97,
   "id": "a046fa9c",
   "metadata": {},
   "outputs": [],
   "source": [
    "completion = client.chat.completions.create(\n",
    "    model='gpt-4.1',\n",
    "    messages=[\n",
    "        {\n",
    "            'role' : 'user',\n",
    "            'content' : '어벤져스 시리즈에 대해 한 문장으로 설명해줘'\n",
    "        }]\n",
    ")\n"
   ]
  },
  {
   "cell_type": "code",
   "execution_count": 98,
   "id": "09640beb",
   "metadata": {},
   "outputs": [
    {
     "data": {
      "text/plain": [
       "'어벤져스 시리즈는 마블 코믹스의 슈퍼히어로들이 힘을 합쳐 지구를 위협하는 강력한 악당들에 맞서는 이야기를 그린 영화 시리즈입니다.'"
      ]
     },
     "execution_count": 98,
     "metadata": {},
     "output_type": "execute_result"
    }
   ],
   "source": [
    "#dict(completion.choices[0])\n",
    "completion.choices[0].message.content"
   ]
  },
  {
   "cell_type": "code",
   "execution_count": 100,
   "id": "ace0ec42",
   "metadata": {},
   "outputs": [
    {
     "name": "stdout",
     "output_type": "stream",
     "text": [
      "안녕하세요! 만나서 반가워요.  \n",
      "오늘은 무엇을 배우고 싶으신가요? 궁금한 것이나 도움이 필요한 것이 있으면 언제든 말씀해 주세요. 😊\n"
     ]
    }
   ],
   "source": [
    "from dotenv import load_dotenv\n",
    "import os\n",
    "from openai import OpenAI\n",
    "\n",
    "load_dotenv()\n",
    "OPENAI_API_KEY = os.getenv('OPENAI_API_KEY')\n",
    "\n",
    "client = OpenAI(api_key=OPENAI_API_KEY)\n",
    "\n",
    "user_input = input(\"질문을 입력해주세요 : \")\n",
    "prompt = input(\"프롬프트를 입력해주세요 : \")\n",
    "\n",
    "response = client.responses.create(\n",
    "    model='gpt-4.1',\n",
    "    input=[\n",
    "        {\n",
    "            'role' : 'developer',\n",
    "            \"content\": prompt\n",
    "    \n",
    "        },\n",
    "        {\n",
    "            'role' : 'user',\n",
    "            \"content\" : user_input \n",
    "            \n",
    "        }]\n",
    ")\n",
    "print(response.output_text)"
   ]
  },
  {
   "cell_type": "markdown",
   "id": "6963476f",
   "metadata": {},
   "source": [
    "File Search"
   ]
  },
  {
   "cell_type": "code",
   "execution_count": 1,
   "id": "f54e51b3",
   "metadata": {},
   "outputs": [],
   "source": [
    "import requests\n",
    "from io import BytesIO\n",
    "from openai import OpenAI\n",
    "client = OpenAI()\n",
    "def create_file(client, file_path):\n",
    "    if file_path.startswith(\"http://\") or file_path.startswith(\"https://\"):\n",
    "    # Download the file content from the URL\n",
    "        response = requests.get(file_path)\n",
    "        file_content = BytesIO(response.content)\n",
    "        file_name = file_path.split(\"/\")[-1]\n",
    "        file_tuple = (file_name, file_content)\n",
    "        result = client.files.create(\n",
    "            file=file_tuple,\n",
    "            purpose=\"assistants\"\n",
    "    )\n",
    "    else:\n",
    "        # Handle local file path\n",
    "        with open(file_path, \"rb\") as file_content:\n",
    "            result = client.files.create(\n",
    "            file=file_content,\n",
    "            purpose=\"assistants\"\n",
    ")\n",
    "    print(result.id)\n",
    "    return result.id\n"
   ]
  },
  {
   "cell_type": "code",
   "execution_count": 5,
   "id": "08dafb3a",
   "metadata": {},
   "outputs": [
    {
     "name": "stdout",
     "output_type": "stream",
     "text": [
      "file-Jdv4194zqQmV4We2X77koU\n"
     ]
    }
   ],
   "source": [
    "file_id = create_file(client, './howto-sockets.pdf')"
   ]
  },
  {
   "cell_type": "code",
   "execution_count": 6,
   "id": "8d5478e5",
   "metadata": {},
   "outputs": [
    {
     "name": "stdout",
     "output_type": "stream",
     "text": [
      "vs_685cb6bce2dc8191bf3c5941f5d822e2\n"
     ]
    }
   ],
   "source": [
    "vector_store = client.vector_stores.create(\n",
    "    name='knowledge_base'\n",
    ")\n",
    "\n",
    "print(vector_store.id)"
   ]
  },
  {
   "cell_type": "code",
   "execution_count": null,
   "id": "3274ff6a",
   "metadata": {},
   "outputs": [],
   "source": [
    "client.vector_stores.files.create(\n",
    "    vector_store_id=vector_store.id\n",
    "    file_id=file_id\n",
    ")"
   ]
  }
 ],
 "metadata": {
  "kernelspec": {
   "display_name": ".venv",
   "language": "python",
   "name": "python3"
  },
  "language_info": {
   "codemirror_mode": {
    "name": "ipython",
    "version": 3
   },
   "file_extension": ".py",
   "mimetype": "text/x-python",
   "name": "python",
   "nbconvert_exporter": "python",
   "pygments_lexer": "ipython3",
   "version": "3.9.13"
  }
 },
 "nbformat": 4,
 "nbformat_minor": 5
}
