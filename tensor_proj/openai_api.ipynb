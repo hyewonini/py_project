{
 "cells": [
  {
   "cell_type": "code",
   "execution_count": 53,
   "id": "efff65fe",
   "metadata": {},
   "outputs": [],
   "source": [
    "from dotenv import load_dotenv\n",
    "import os\n",
    "\n",
    "load_dotenv()\n",
    "\n",
    "OPENAI_API_KEY = os.getenv('OPENAI_API_KEY')\n",
    "\n",
    "#print('key:', OPENAI_API_KEY)"
   ]
  },
  {
   "cell_type": "code",
   "execution_count": 54,
   "id": "b7e59371",
   "metadata": {},
   "outputs": [],
   "source": [
    "from openai import OpenAI\n",
    "\n",
    "client = OpenAI(api_key = OPENAI_API_KEY)\n",
    "\n",
    "response = client.responses.create(\n",
    "    model='gpt-4.1',\n",
    "    input='어벤져스 시리즈의 토르의 역할에 대해 한줄로 설명해줘'\n",
    ")"
   ]
  },
  {
   "cell_type": "code",
   "execution_count": 31,
   "id": "66529e41",
   "metadata": {},
   "outputs": [
    {
     "data": {
      "text/plain": [
       "'토르는 아스가르드의 천둥의 신으로, 막강한 힘과 묠니르 망치를 사용해 어벤져스의 핵심 멤버로 활약한다.'"
      ]
     },
     "execution_count": 31,
     "metadata": {},
     "output_type": "execute_result"
    }
   ],
   "source": [
    "response.output_text"
   ]
  },
  {
   "cell_type": "code",
   "execution_count": 32,
   "id": "d06a30cc",
   "metadata": {},
   "outputs": [
    {
     "name": "stdout",
     "output_type": "stream",
     "text": [
      "토르는 아스가르드의 천둥의 신으로, 강력한 힘과 묠니르 망치를 앞세워 어벤져스 팀의 핵심 전사 역할을 한다.\n"
     ]
    }
   ],
   "source": [
    "response = client.responses.create(\n",
    "    model='gpt-4.1',\n",
    "    instructions='당신은 영화평론가야',\n",
    "    input=\"어벤져스 시리즈의 토르의 역할에 대해 한줄로 설명해줘\"\n",
    ")\n",
    "print(response.output_text)"
   ]
  },
  {
   "cell_type": "code",
   "execution_count": 40,
   "id": "0d452fc1",
   "metadata": {},
   "outputs": [
    {
     "name": "stdout",
     "output_type": "stream",
     "text": [
      "게임 얘기라니 너무 좋아! 😊 어떤 장르를 좋아해? 가벼운 게임, 협동/파티 게임, 깊이 있는 전략 게임, RPG, 아니면 액션 게임 등등… 원하는 스타일이나 상황을 알려주면 추천해줄 수 있어!\n",
      "\n",
      "혹시 오늘 혼자서 할 생각이야? 친구들이나 가족이랑 같이 할 계획이야?  \n",
      "플랫폼(PC, 콘솔, 모바일 등)도 말해주면 더 딱 맞는 게임들을 추천해줄 수 있어!\n"
     ]
    }
   ],
   "source": [
    "response = client.responses.create(\n",
    "    model='gpt-4.1',\n",
    "    input=[\n",
    "        {\n",
    "            'role' : 'developer',\n",
    "            'content' : '게임에 대한 이야기 하는 것을 좋아해'\n",
    "        },\n",
    "        {\n",
    "            'role' : 'user', \n",
    "            'content' : '오늘은 무슨 게임을 할까?'\n",
    "        }]\n",
    ")\n",
    "print(response.output_text)"
   ]
  },
  {
   "cell_type": "code",
   "execution_count": 41,
   "id": "a046fa9c",
   "metadata": {},
   "outputs": [],
   "source": [
    "completion = client.chat.completions.create(\n",
    "    model='gpt-4.1',\n",
    "    messages=[\n",
    "        {\n",
    "            'role' : 'user',\n",
    "            'content' : '어벤져스 시리즈에 대해 한 문장으로 설명해줘'\n",
    "        }]\n",
    ")\n"
   ]
  },
  {
   "cell_type": "code",
   "execution_count": 42,
   "id": "09640beb",
   "metadata": {},
   "outputs": [
    {
     "data": {
      "text/plain": [
       "'어벤져스 시리즈는 다양한 슈퍼히어로들이 힘을 합쳐 지구와 우주를 위협하는 강력한 악당에 맞서 싸우는 마블 시네마틱 유니버스(MCU)의 대표적인 영화 시리즈입니다.'"
      ]
     },
     "execution_count": 42,
     "metadata": {},
     "output_type": "execute_result"
    }
   ],
   "source": [
    "#dict(completion.choices[0])\n",
    "completion.choices[0].message.content"
   ]
  },
  {
   "cell_type": "code",
   "execution_count": 1,
   "id": "ace0ec42",
   "metadata": {},
   "outputs": [
    {
     "name": "stdout",
     "output_type": "stream",
     "text": [
      "안녕하ㅔ숑! 😀 반가워요! 오늘은 어떤 도움이 필요하신가요? 궁금한 거 있으면 언제든 물어봐 주세요!\n"
     ]
    }
   ],
   "source": [
    "from dotenv import load_dotenv\n",
    "import os\n",
    "from openai import OpenAI\n",
    "\n",
    "load_dotenv()\n",
    "OPENAI_API_KEY = os.getenv('OPENAI_API_KEY')\n",
    "\n",
    "client = OpenAI(api_key=OPENAI_API_KEY)\n",
    "\n",
    "user_input = input(\"질문을 입력해주세요 : \")\n",
    "prompt = input(\"프롬프트를 입력해주세요 : \")\n",
    "\n",
    "response = client.responses.create(\n",
    "    model='gpt-4.1',\n",
    "    input=[\n",
    "        {\n",
    "            'role' : 'developer',\n",
    "            \"content\": prompt\n",
    "    \n",
    "        },\n",
    "        {\n",
    "            'role' : 'user',\n",
    "            \"content\" : user_input \n",
    "            \n",
    "        }]\n",
    ")\n",
    "print(response.output_text)"
   ]
  },
  {
   "cell_type": "markdown",
   "id": "6963476f",
   "metadata": {},
   "source": [
    "File Search"
   ]
  },
  {
   "cell_type": "code",
   "execution_count": 2,
   "id": "f54e51b3",
   "metadata": {},
   "outputs": [],
   "source": [
    "import requests\n",
    "from io import BytesIO\n",
    "from openai import OpenAI\n",
    "client = OpenAI()\n",
    "def create_file(client, file_path):\n",
    "    if file_path.startswith(\"http://\") or file_path.startswith(\"https://\"):\n",
    "    # Download the file content from the URL\n",
    "        response = requests.get(file_path)\n",
    "        file_content = BytesIO(response.content)\n",
    "        file_name = file_path.split(\"/\")[-1]\n",
    "        file_tuple = (file_name, file_content)\n",
    "        result = client.files.create(\n",
    "            file=file_tuple,\n",
    "            purpose=\"assistants\"\n",
    "    )\n",
    "    else:\n",
    "        # Handle local file path\n",
    "        with open(file_path, \"rb\") as file_content:\n",
    "            result = client.files.create(\n",
    "            file=file_content,\n",
    "            purpose=\"assistants\"\n",
    ")\n",
    "    print(result.id)\n",
    "    return result.id\n"
   ]
  },
  {
   "cell_type": "code",
   "execution_count": 3,
   "id": "08dafb3a",
   "metadata": {},
   "outputs": [
    {
     "name": "stdout",
     "output_type": "stream",
     "text": [
      "file-XqL3GVqVu6rY7RLRiKSt1m\n"
     ]
    }
   ],
   "source": [
    "file_id = create_file(client, './howto-sockets.pdf')"
   ]
  },
  {
   "cell_type": "code",
   "execution_count": 4,
   "id": "8d5478e5",
   "metadata": {},
   "outputs": [
    {
     "name": "stdout",
     "output_type": "stream",
     "text": [
      "vs_685cd1a664388191a24c4b7af5652380\n"
     ]
    }
   ],
   "source": [
    "vector_store = client.vector_stores.create(\n",
    "    name='knowledge_base'\n",
    ")\n",
    "\n",
    "print(vector_store.id)"
   ]
  },
  {
   "cell_type": "code",
   "execution_count": 5,
   "id": "3274ff6a",
   "metadata": {},
   "outputs": [
    {
     "data": {
      "text/plain": [
       "VectorStoreFile(id='file-XqL3GVqVu6rY7RLRiKSt1m', created_at=1750913447, last_error=None, object='vector_store.file', status='in_progress', usage_bytes=0, vector_store_id='vs_685cd1a664388191a24c4b7af5652380', attributes={}, chunking_strategy=StaticFileChunkingStrategyObject(static=StaticFileChunkingStrategy(chunk_overlap_tokens=400, max_chunk_size_tokens=800), type='static'))"
      ]
     },
     "execution_count": 5,
     "metadata": {},
     "output_type": "execute_result"
    }
   ],
   "source": [
    "client.vector_stores.files.create(\n",
    "    vector_store_id=vector_store.id,\n",
    "    file_id=file_id\n",
    ")"
   ]
  },
  {
   "cell_type": "code",
   "execution_count": 6,
   "id": "fe9852ff",
   "metadata": {},
   "outputs": [
    {
     "name": "stdout",
     "output_type": "stream",
     "text": [
      "SyncCursorPage[VectorStoreFile](data=[VectorStoreFile(id='file-XqL3GVqVu6rY7RLRiKSt1m', created_at=1750913447, last_error=None, object='vector_store.file', status='in_progress', usage_bytes=0, vector_store_id='vs_685cd1a664388191a24c4b7af5652380', attributes={}, chunking_strategy=StaticFileChunkingStrategyObject(static=StaticFileChunkingStrategy(chunk_overlap_tokens=400, max_chunk_size_tokens=800), type='static'))], has_more=False, object='list', first_id='file-XqL3GVqVu6rY7RLRiKSt1m', last_id='file-XqL3GVqVu6rY7RLRiKSt1m')\n"
     ]
    }
   ],
   "source": [
    "result_list = client.vector_stores.files.list(\n",
    "    vector_store_id=vector_store.id\n",
    ")\n",
    "\n",
    "print(result_list)"
   ]
  },
  {
   "cell_type": "code",
   "execution_count": 7,
   "id": "4cc4e42b",
   "metadata": {},
   "outputs": [
    {
     "name": "stdout",
     "output_type": "stream",
     "text": [
      "Response(id='resp_685cd1a78ae8819999c5af6335e56fbe0e6a97f33172732f', created_at=1750913447.0, error=None, incomplete_details=None, instructions=None, metadata={}, model='gpt-4.1-2025-04-14', object='response', output=[ResponseOutputMessage(id='msg_685cd1a816ec8199a1f91f26dee5c7cd0e6a97f33172732f', content=[ResponseOutputText(annotations=[], text=\"파이썬에서 소켓(socket)을 만드는 방법을 간단하게 설명하겠습니다.\\n\\n1. 소켓 라이브러리 임포트  \\n먼저, 파이썬 내장 라이브러리인 `socket`을 불러와야 합니다.\\n```python\\nimport socket\\n```\\n\\n2. 소켓 객체 생성  \\n다음과 같이 소켓 객체를 생성합니다.\\n```python\\ns = socket.socket(socket.AF_INET, socket.SOCK_STREAM)\\n```\\n여기서 `AF_INET`은 IPv4를, `SOCK_STREAM`은 TCP 타입의 소켓을 의미합니다.\\n\\n3. 서버/클라이언트 역할에 따라 분기  \\n- **서버** 용 소켓의 경우\\n  - 주소, 포트에 바인딩(bind):  \\n    ```python\\n    s.bind(('localhost', 12345))\\n    ```\\n  - 연결 대기 상태로 전환(listen):  \\n    ```python\\n    s.listen(1)\\n    ```\\n  - 연결 요청을 수락(accept):  \\n    ```python\\n    conn, addr = s.accept()\\n    ```\\n\\n- **클라이언트** 용 소켓의 경우  \\n  - 서버에 연결(connect):  \\n    ```python\\n    s.connect(('localhost', 12345))\\n    ```\\n\\n4. 데이터 송수신  \\n- 송신(send):  \\n  ```python\\n  s.sendall(b'Hello, world')\\n  ```\\n- 수신(recv):  \\n  ```python\\n  data = s.recv(1024)\\n  ```\\n\\n5. 소켓 종료  \\n```python\\ns.close()\\n```\\n\\n---\\n\\n간단 예시 (서버):\\n```python\\nimport socket\\n\\ns = socket.socket(socket.AF_INET, socket.SOCK_STREAM)\\ns.bind(('localhost', 12345))\\ns.listen(1)\\nconn, addr = s.accept()\\nprint('Connected by', addr)\\ndata = conn.recv(1024)\\nconn.sendall(data)\\nconn.close()\\ns.close()\\n```\\n\\n간단 예시 (클라이언트):\\n```python\\nimport socket\\n\\ns = socket.socket(socket.AF_INET, socket.SOCK_STREAM)\\ns.connect(('localhost', 12345))\\ns.sendall(b'Hello, world')\\ndata = s.recv(1024)\\nprint('Received', repr(data))\\ns.close()\\n```\\n\\n궁금한 부분이나 더 구체적인 예제가 필요하면 추가로 물어보세요!\", type='output_text', logprobs=None)], role='assistant', status='completed', type='message')], parallel_tool_calls=True, temperature=1.0, tool_choice='auto', tools=[FileSearchTool(type='file_search', vector_store_ids=['vs_685cd1a664388191a24c4b7af5652380'], filters=None, max_num_results=20, ranking_options=RankingOptions(ranker='auto', score_threshold=0.0))], top_p=1.0, background=False, max_output_tokens=None, previous_response_id=None, prompt=None, reasoning=Reasoning(effort=None, generate_summary=None, summary=None), service_tier='default', status='completed', text=ResponseTextConfig(format=ResponseFormatText(type='text')), truncation='disabled', usage=ResponseUsage(input_tokens=812, input_tokens_details=InputTokensDetails(cached_tokens=0), output_tokens=501, output_tokens_details=OutputTokensDetails(reasoning_tokens=0), total_tokens=1313), user=None, max_tool_calls=None, store=True)\n"
     ]
    }
   ],
   "source": [
    "response = client.responses.create(\n",
    "    model='gpt-4.1',\n",
    "    input='파이썬 코드로 소켓 만드는 방법을 간단하게 설명해줘',\n",
    "    tools=[{\n",
    "        \"type\" : \"file_search\",\n",
    "        \"vector_store_ids\" : [vector_store.id]\n",
    "    }],\n",
    "    tool_choice='auto'\n",
    ")\n",
    "\n",
    "print(response)"
   ]
  },
  {
   "cell_type": "markdown",
   "id": "b2d35266",
   "metadata": {},
   "source": []
  }
 ],
 "metadata": {
  "kernelspec": {
   "display_name": ".venv",
   "language": "python",
   "name": "python3"
  },
  "language_info": {
   "codemirror_mode": {
    "name": "ipython",
    "version": 3
   },
   "file_extension": ".py",
   "mimetype": "text/x-python",
   "name": "python",
   "nbconvert_exporter": "python",
   "pygments_lexer": "ipython3",
   "version": "3.9.13"
  }
 },
 "nbformat": 4,
 "nbformat_minor": 5
}
