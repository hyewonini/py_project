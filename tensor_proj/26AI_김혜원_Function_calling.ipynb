{
 "cells": [
  {
   "cell_type": "code",
   "execution_count": 127,
   "id": "d8396762",
   "metadata": {},
   "outputs": [],
   "source": [
    "from dotenv import load_dotenv\n",
    "import os\n",
    "from openai import OpenAI\n",
    "import requests\n",
    "import json\n",
    "from datetime import datetime\n",
    "load_dotenv()\n",
    "OPENAI_API_KEY = os.getenv('OPENAI_API_KEY')\n",
    "\n",
    "client = OpenAI(api_key=OPENAI_API_KEY)"
   ]
  },
  {
   "cell_type": "markdown",
   "id": "51464bf9",
   "metadata": {},
   "source": [
    "나이 계산 함수"
   ]
  },
  {
   "cell_type": "code",
   "execution_count": 129,
   "id": "ef67d7de",
   "metadata": {},
   "outputs": [],
   "source": [
    "# 만나이 계산 함수 정의\n",
    "def calculate_age(birthdate: str) -> str:\n",
    "    today = datetime.today()  # 오늘 날짜\n",
    "    birth = datetime.strptime(birthdate, \"%Y-%m-%d\")\n",
    "    # 만 나이 계산\n",
    "    age = today.year - birth.year - ((today.month, today.day) < (birth.month, birth.day))\n",
    "    return f\"{birthdate} 생의 만 나이는 {age}세입니다.\""
   ]
  },
  {
   "cell_type": "code",
   "execution_count": 130,
   "id": "0c1e5e29",
   "metadata": {},
   "outputs": [],
   "source": [
    "tools = [\n",
    "    {\n",
    "        \"name\": \"calculate_age\",\n",
    "        \"type\": \"function\",\n",
    "        \"description\": \"생년월일로 만 나이를 계산합니다.\",\n",
    "        \"parameters\": {\n",
    "            \"type\": \"object\",\n",
    "            \"properties\": {\n",
    "                \"birthdate\": {\n",
    "                    \"type\": \"string\",\n",
    "                    \"description\": \"생년월일 (YYYY-MM-DD)\"\n",
    "                }\n",
    "            },\n",
    "            \"required\": [\"birthdate\"]\n",
    "        }\n",
    "    }\n",
    "]"
   ]
  },
  {
   "cell_type": "code",
   "execution_count": 131,
   "id": "e5366898",
   "metadata": {},
   "outputs": [],
   "source": [
    "# 사용자 메시지 입력\n",
    "input_messages = [{\"role\": \"user\", \"content\": \"1992-05-01생의 만 나이는?\"}]"
   ]
  },
  {
   "cell_type": "code",
   "execution_count": 132,
   "id": "55e99ec4",
   "metadata": {},
   "outputs": [],
   "source": [
    "# 함수 호출하는 기능\n",
    "response = client.responses.create(\n",
    "    model=\"gpt-4.1\",\n",
    "    input=input_messages,\n",
    "    tools=tools,\n",
    ")"
   ]
  },
  {
   "cell_type": "code",
   "execution_count": 133,
   "id": "47debc47",
   "metadata": {},
   "outputs": [
    {
     "data": {
      "text/plain": [
       "{'arguments': '{\"birthdate\":\"1992-05-01\"}',\n",
       " 'call_id': 'call_98DFrF0nFGCNHo48v77AS3Lg',\n",
       " 'name': 'calculate_age',\n",
       " 'type': 'function_call',\n",
       " 'id': 'fc_685c9d5033d081998407894cdf9a6a09046f4e10d530dbb0',\n",
       " 'status': 'completed'}"
      ]
     },
     "execution_count": 133,
     "metadata": {},
     "output_type": "execute_result"
    }
   ],
   "source": [
    "dict(response.output[0])"
   ]
  },
  {
   "cell_type": "code",
   "execution_count": 134,
   "id": "ab9830b8",
   "metadata": {},
   "outputs": [],
   "source": [
    "# 함수 실행\n",
    "tool_call = response.output[0]\n",
    "args = json.loads(tool_call.arguments)"
   ]
  },
  {
   "cell_type": "code",
   "execution_count": 136,
   "id": "df54d492",
   "metadata": {},
   "outputs": [
    {
     "name": "stdout",
     "output_type": "stream",
     "text": [
      "1992-05-01 생의 만 나이는 33세입니다.\n"
     ]
    }
   ],
   "source": [
    "result = calculate_age(**args)\n",
    "print(result)"
   ]
  },
  {
   "cell_type": "markdown",
   "id": "5b0d69bc",
   "metadata": {},
   "source": [
    "환율 변환 함수\n"
   ]
  },
  {
   "cell_type": "code",
   "execution_count": 137,
   "id": "aef8bc64",
   "metadata": {},
   "outputs": [],
   "source": [
    "# 환율 변환 함수 정의\n",
    "def convert_currency(amount: float, from_currency: str, to_currency: str, rate: float) -> str:\n",
    "    converted = round(amount * rate, 2)  # 환율 적용 후 소수점 둘째 자리까지 반올림\n",
    "    return f\"{amount} {from_currency}는 환율 {rate} 적용 시 {converted} {to_currency}입니다.\""
   ]
  },
  {
   "cell_type": "code",
   "execution_count": 138,
   "id": "b9f8ef72",
   "metadata": {},
   "outputs": [],
   "source": [
    "tools = [\n",
    "    {\n",
    "        \"name\": \"convert_currency\",\n",
    "        \"type\": \"function\",\n",
    "        \"description\": \"금액과 환율을 입력받아 통화를 변환합니다.\",\n",
    "        \"parameters\": {\n",
    "            \"type\": \"object\",\n",
    "            \"properties\": {\n",
    "                \"amount\": {\"type\": \"number\", \"description\": \"환전할 금액\"},\n",
    "                \"from_currency\": {\"type\": \"string\", \"description\": \"변환 전 통화명\"},\n",
    "                \"to_currency\": {\"type\": \"string\", \"description\": \"변환 후 통화명\"},\n",
    "                \"rate\": {\"type\": \"number\", \"description\": \"환율\"}\n",
    "            },\n",
    "            \"required\": [\"amount\", \"from_currency\", \"to_currency\", \"rate\"]\n",
    "        }\n",
    "    }\n",
    "]"
   ]
  },
  {
   "cell_type": "code",
   "execution_count": 139,
   "id": "6c1656b9",
   "metadata": {},
   "outputs": [],
   "source": [
    "# 사용자 질문 (환율 변환 요청)\n",
    "input_messages = [{\"role\": \"user\", \"content\": \"100달러를 원화로 바꿔줘 (환율 1330원 적용)\"}]"
   ]
  },
  {
   "cell_type": "code",
   "execution_count": 141,
   "id": "1f3fc770",
   "metadata": {},
   "outputs": [],
   "source": [
    "response = client.responses.create(\n",
    "    model=\"gpt-4.1\",\n",
    "    input=input_messages,\n",
    "    tools=tools,\n",
    ")"
   ]
  },
  {
   "cell_type": "code",
   "execution_count": 143,
   "id": "82d9c8c1",
   "metadata": {},
   "outputs": [],
   "source": [
    "tool_call = response.output[0]\n",
    "args = json.loads(tool_call.arguments)"
   ]
  },
  {
   "cell_type": "code",
   "execution_count": 144,
   "id": "6dcbe635",
   "metadata": {},
   "outputs": [
    {
     "name": "stdout",
     "output_type": "stream",
     "text": [
      "100 USD는 환율 1330 적용 시 133000 KRW입니다.\n"
     ]
    }
   ],
   "source": [
    "result = convert_currency(**args)\n",
    "\n",
    "# 결과 출력\n",
    "print(result)"
   ]
  },
  {
   "cell_type": "markdown",
   "id": "15c77816",
   "metadata": {},
   "source": [
    "BMI(체질량지수) 계산 함수"
   ]
  },
  {
   "cell_type": "code",
   "execution_count": null,
   "id": "1e891f86",
   "metadata": {},
   "outputs": [],
   "source": [
    "# BMI 계산 함수 정의\n",
    "def calculate_bmi(height: float, weight: float) -> str:\n",
    "    height_m = height / 100  # cm → m 변환\n",
    "    bmi = round(weight / (height_m ** 2), 2)  # BMI 계산, 소수점 둘째 자리 반올림\n",
    "    return f\"키 {height}cm, 몸무게 {weight}kg의 BMI는 {bmi}입니다.\""
   ]
  },
  {
   "cell_type": "code",
   "execution_count": 146,
   "id": "54ac62b3",
   "metadata": {},
   "outputs": [],
   "source": [
    "tools = [\n",
    "    {\n",
    "        \"name\": \"calculate_bmi\",\n",
    "        \"type\": \"function\",\n",
    "        \"description\": \"키(cm)와 몸무게(kg)로 BMI를 계산합니다.\",\n",
    "        \"parameters\": {\n",
    "            \"type\": \"object\",\n",
    "            \"properties\": {\n",
    "                \"height\": {\"type\": \"number\", \"description\": \"키(cm)\"},\n",
    "                \"weight\": {\"type\": \"number\", \"description\": \"몸무게(kg)\"}\n",
    "            },\n",
    "            \"required\": [\"height\", \"weight\"]\n",
    "        }\n",
    "    }\n",
    "]"
   ]
  },
  {
   "cell_type": "code",
   "execution_count": 147,
   "id": "b2f90612",
   "metadata": {},
   "outputs": [],
   "source": [
    "# 사용자 질문 (BMI 계산 요청)\n",
    "input_messages = [{\"role\": \"user\", \"content\": \"키 170cm, 몸무게 65kg의 BMI는?\"}]"
   ]
  },
  {
   "cell_type": "code",
   "execution_count": 148,
   "id": "ef16d1ff",
   "metadata": {},
   "outputs": [],
   "source": [
    "response = client.responses.create(\n",
    "    model=\"gpt-4.1\",\n",
    "    input=input_messages,\n",
    "    tools=tools,\n",
    "    tool_choice=\"auto\"\n",
    ")"
   ]
  },
  {
   "cell_type": "code",
   "execution_count": 149,
   "id": "0dd9c368",
   "metadata": {},
   "outputs": [],
   "source": [
    "tool_call = response.output[0]\n",
    "args = json.loads(tool_call.arguments)"
   ]
  },
  {
   "cell_type": "code",
   "execution_count": 150,
   "id": "8c36b665",
   "metadata": {},
   "outputs": [
    {
     "name": "stdout",
     "output_type": "stream",
     "text": [
      "키 170cm, 몸무게 65kg의 BMI는 22.49입니다.\n"
     ]
    }
   ],
   "source": [
    "result = calculate_bmi(**args)\n",
    "\n",
    "# 결과 출력\n",
    "print(result)"
   ]
  }
 ],
 "metadata": {
  "kernelspec": {
   "display_name": ".venv",
   "language": "python",
   "name": "python3"
  },
  "language_info": {
   "codemirror_mode": {
    "name": "ipython",
    "version": 3
   },
   "file_extension": ".py",
   "mimetype": "text/x-python",
   "name": "python",
   "nbconvert_exporter": "python",
   "pygments_lexer": "ipython3",
   "version": "3.9.13"
  }
 },
 "nbformat": 4,
 "nbformat_minor": 5
}
