{
 "cells": [
  {
   "cell_type": "code",
   "execution_count": null,
   "id": "60fbaddd",
   "metadata": {},
   "outputs": [
    {
     "name": "stdout",
     "output_type": "stream",
     "text": [
      "MAE : 22592.02\n",
      "RMSE : 34590.60\n",
      "R² : 0.7204\n"
     ]
    }
   ],
   "source": [
    "import pandas as pd\n",
    "import numpy as np\n",
    "from sklearn.model_selection import train_test_split\n",
    "from sklearn.tree import DecisionTreeRegressor\n",
    "from sklearn.metrics import mean_absolute_error, mean_squared_error, r2_score\n",
    "\n",
    "# 1. 데이터 불러오기\n",
    "df = pd.read_csv(\"train.csv\")\n",
    "\n",
    "# 2. 결측값이 많은 열 제거 (30% 이상 결측값이 있는 열 제거 예시)\n",
    "missing_ratio = df.isnull().mean()\n",
    "df = df.drop(columns=missing_ratio[missing_ratio > 0.3].index)\n",
    "\n",
    "# 3. LotFrontage 결측값 평균으로 대체\n",
    "df['LotFrontage'] = df['LotFrontage'].fillna(df['LotFrontage'].mean())\n",
    "\n",
    "# 4. 나머지 결측값 간단히 삭제 (단순 처리)\n",
    "df = df.dropna()\n",
    "\n",
    "# 5. 'Id' 열 제거\n",
    "df = df.drop(columns=['Id'])\n",
    "\n",
    "# 6. 범주형 변수 원-핫 인코딩\n",
    "df_encoded = pd.get_dummies(df, drop_first=True)\n",
    "\n",
    "# 7. X, y 분리\n",
    "X = df_encoded.drop(columns=['SalePrice'])\n",
    "y = df_encoded['SalePrice']\n",
    "\n",
    "# 8. 학습 / 테스트 데이터 분리 (8:2)\n",
    "X_train, X_test, y_train, y_test = train_test_split(X, y, test_size=0.2, random_state=42)\n",
    "\n",
    "# 9. 모델 학습 - Decision Tree\n",
    "model = DecisionTreeRegressor(random_state=42)\n",
    "model.fit(X_train, y_train)\n",
    "\n",
    "# 10. 예측\n",
    "y_pred = model.predict(X_test)\n",
    "\n",
    "# 11. 성능 평가 지표\n",
    "mae = mean_absolute_error(y_test, y_pred)\n",
    "mse = mean_squared_error(y_test, y_pred)\n",
    "rmse = np.sqrt(mse)\n",
    "r2 = r2_score(y_test, y_pred)\n",
    "\n",
    "# 12. 결과 출력\n",
    "print(f\"MAE : {mae:.2f}\")\n",
    "print(f\"RMSE : {rmse:.2f}\")\n",
    "print(f\"R2 : {r2:.4f}\")\n"
   ]
  },
  {
   "cell_type": "code",
   "execution_count": null,
   "id": "63b6665c",
   "metadata": {},
   "outputs": [],
   "source": []
  }
 ],
 "metadata": {
  "kernelspec": {
   "display_name": "Python 3",
   "language": "python",
   "name": "python3"
  },
  "language_info": {
   "codemirror_mode": {
    "name": "ipython",
    "version": 3
   },
   "file_extension": ".py",
   "mimetype": "text/x-python",
   "name": "python",
   "nbconvert_exporter": "python",
   "pygments_lexer": "ipython3",
   "version": "3.13.4"
  }
 },
 "nbformat": 4,
 "nbformat_minor": 5
}
