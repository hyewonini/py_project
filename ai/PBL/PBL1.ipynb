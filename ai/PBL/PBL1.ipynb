{
 "cells": [
  {
   "cell_type": "code",
   "execution_count": 3,
   "id": "06f3f0d5",
   "metadata": {},
   "outputs": [
    {
     "name": "stdout",
     "output_type": "stream",
     "text": [
      "각 열의 결측치 개수 :\n",
      "Pregnancies                 0\n",
      "Glucose                     0\n",
      "BloodPressure               0\n",
      "SkinThickness               0\n",
      "Insulin                     0\n",
      "BMI                         0\n",
      "DiabetesPedigreeFunction    0\n",
      "Age                         0\n",
      "Outcome                     0\n",
      "dtype: int64\n",
      " Outcome 별 Glucose 평균 :\n",
      "Outcome\n",
      "0    110.710121\n",
      "1    142.165573\n",
      "Name: Glucose, dtype: float64\n",
      "전처리 후 상위 5개 행 :\n",
      "   Pregnancies  Glucose  BloodPressure  SkinThickness     Insulin   BMI  \\\n",
      "0            6    148.0           72.0       35.00000  155.548223  33.6   \n",
      "1            1     85.0           66.0       29.00000  155.548223  26.6   \n",
      "2            8    183.0           64.0       29.15342  155.548223  23.3   \n",
      "3            1     89.0           66.0       23.00000   94.000000  28.1   \n",
      "4            0    137.0           40.0       35.00000  168.000000  43.1   \n",
      "\n",
      "   DiabetesPedigreeFunction       Age  Outcome  \n",
      "0                     0.627  0.483333        1  \n",
      "1                     0.351  0.166667        0  \n",
      "2                     0.672  0.183333        1  \n",
      "3                     0.167  0.000000        0  \n",
      "4                     2.288  0.200000        1  \n"
     ]
    },
    {
     "name": "stderr",
     "output_type": "stream",
     "text": [
      "C:\\Users\\ez\\AppData\\Local\\Temp\\ipykernel_12272\\917779329.py:14: FutureWarning: A value is trying to be set on a copy of a DataFrame or Series through chained assignment using an inplace method.\n",
      "The behavior will change in pandas 3.0. This inplace method will never work because the intermediate object on which we are setting values always behaves as a copy.\n",
      "\n",
      "For example, when doing 'df[col].method(value, inplace=True)', try using 'df.method({col: value}, inplace=True)' or df[col] = df[col].method(value) instead, to perform the operation inplace on the original object.\n",
      "\n",
      "\n",
      "  df[col].fillna(df[col].mean(), inplace=True)\n"
     ]
    }
   ],
   "source": [
    "import pandas as pd\n",
    "import numpy as np\n",
    "from sklearn.preprocessing import MinMaxScaler\n",
    "\n",
    "# 1. 데이터 로드\n",
    "df = pd.read_csv('diabetes.csv')\n",
    "\n",
    "# 2. 결측치 처리 (0값을 NaN으로 대체 후 평균으로 대체)\n",
    "cols_with_zero = ['Glucose', 'BloodPressure', 'SkinThickness', 'Insulin', 'BMI']\n",
    "df[cols_with_zero] = df[cols_with_zero].replace(0, np.nan)\n",
    "\n",
    "# 결측치 평균으로 대체\n",
    "for col in cols_with_zero:\n",
    "    df[col].fillna(df[col].mean(), inplace=True)\n",
    "\n",
    "# 3. 이상치 처리 (SkinThickness, Insulin 상위 1% 이상치를 평균으로 대체)\n",
    "for col in ['SkinThickness', 'Insulin']:\n",
    "    upper_threshold = df[col].quantile(0.99)\n",
    "    mean_value = df[col].mean()\n",
    "    df[col] = df[col].apply(lambda x: mean_value if x > upper_threshold else x)\n",
    "\n",
    "# 4. 정규화 (Age 열만 MinMaxScaler 사용)\n",
    "scaler = MinMaxScaler()\n",
    "df['Age'] = scaler.fit_transform(df[['Age']])  # 2D로 넣어야 함\n",
    "\n",
    "# 5. EDA 수행\n",
    "print(\"각 열의 결측치 개수 :\")\n",
    "print(df.isnull().sum())\n",
    "\n",
    "print(\" Outcome 별 Glucose 평균 :\")\n",
    "print(df.groupby('Outcome')['Glucose'].mean())\n",
    "\n",
    "print(\"전처리 후 상위 5개 행 :\")\n",
    "print(df.head())\n"
   ]
  },
  {
   "cell_type": "code",
   "execution_count": null,
   "id": "1746ceac",
   "metadata": {},
   "outputs": [],
   "source": []
  },
  {
   "cell_type": "code",
   "execution_count": null,
   "id": "55cc8314",
   "metadata": {},
   "outputs": [],
   "source": []
  }
 ],
 "metadata": {
  "kernelspec": {
   "display_name": "Python 3",
   "language": "python",
   "name": "python3"
  },
  "language_info": {
   "codemirror_mode": {
    "name": "ipython",
    "version": 3
   },
   "file_extension": ".py",
   "mimetype": "text/x-python",
   "name": "python",
   "nbconvert_exporter": "python",
   "pygments_lexer": "ipython3",
   "version": "3.13.4"
  }
 },
 "nbformat": 4,
 "nbformat_minor": 5
}
