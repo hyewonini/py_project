{
 "cells": [
  {
   "cell_type": "code",
   "execution_count": 1,
   "id": "518a7578",
   "metadata": {},
   "outputs": [
    {
     "name": "stderr",
     "output_type": "stream",
     "text": [
      "C:\\Users\\ez\\AppData\\Roaming\\Python\\Python313\\site-packages\\IPython\\core\\pylabtools.py:170: UserWarning: Glyph 8722 (\\N{MINUS SIGN}) missing from font(s) Malgun Gothic.\n",
      "  fig.canvas.print_figure(bytes_io, **kw)\n"
     ]
    },
    {
     "data": {
      "image/png": "[encoded data removed]",
      "text/plain": [
       "<Figure size 640x480 with 1 Axes>"
      ]
     },
     "metadata": {},
     "output_type": "display_data"
    },
    {
     "name": "stdout",
     "output_type": "stream",
     "text": [
      "왜도 (Skewness): -0.0522\n",
      "첨도 (Kurtosis): 0.0151\n"
     ]
    }
   ],
   "source": [
    "import numpy as np\n",
    "import pandas as pd\n",
    "import matplotlib.pyplot as plt\n",
    "import matplotlib as mpl\n",
    "from scipy.stats import skew, kurtosis\n",
    "# 정규분포 데이터 생성 (평균=0, 표준편차=1, 1000개 샘플)\n",
    "data = np.random.normal(loc=0, scale=1, size=1000)\n",
    "# 데이터프레임으로 변환 (선택사항)\n",
    "df = pd.DataFrame(data, columns=['값'])\n",
    "# 한글 폰트 설정\n",
    "plt.rcParams['font.family'] = 'Malgun Gothic'\n",
    "# 정규분포 히스토그램 시각화\n",
    "plt.hist(df['값'], bins=30, edgecolor='black', alpha=0.7)\n",
    "plt.title('정규분포 히스토그램')\n",
    "plt.xlabel('값')\n",
    "plt.ylabel('빈도수')\n",
    "plt.grid(True)\n",
    "plt.show()\n",
    "# 왜도(Skewness) 계산\n",
    "skewness = skew(df['값'])\n",
    "print(f\"왜도 (Skewness): {skewness:.4f}\")\n",
    "# 첨도(Kurtosis) 계산\n",
    "kurt = kurtosis(df['값']) # Fisher 방식 (정규분포면 0이 나옴)\n",
    "print(f\"첨도 (Kurtosis): {kurt:.4f}\")"
   ]
  },
  {
   "cell_type": "code",
   "execution_count": null,
   "id": "aa36c5c4",
   "metadata": {},
   "outputs": [],
   "source": [
    "#데이터의 병합"
   ]
  },
  {
   "cell_type": "code",
   "execution_count": 3,
   "id": "0d11c996",
   "metadata": {},
   "outputs": [],
   "source": [
    "# 고객 정보 데이터프레임\n",
    "customers = pd.DataFrame({\n",
    "    'customer_id': [1, 2, 3],\n",
    "    'name': ['Alice', 'Bob', 'Charlie']\n",
    "})\n",
    "# 주문 정보 데이터프레임\n",
    "orders = pd.DataFrame({\n",
    "    'order_id': [101, 102, 103],\n",
    "    'customer_id': [1, 2, 4],\n",
    "    'product': ['Laptop', 'Tablet', 'Smartphone']\n",
    "})"
   ]
  },
  {
   "cell_type": "code",
   "execution_count": 5,
   "id": "6795d76e",
   "metadata": {},
   "outputs": [
    {
     "name": "stdout",
     "output_type": "stream",
     "text": [
      "   customer_id     name\n",
      "0            1    Alice\n",
      "1            2      Bob\n",
      "2            3  Charlie\n",
      "   order_id  customer_id     product\n",
      "0       101            1      Laptop\n",
      "1       102            2      Tablet\n",
      "2       103            4  Smartphone\n"
     ]
    }
   ],
   "source": [
    "print(customers)\n",
    "print(orders)"
   ]
  },
  {
   "cell_type": "code",
   "execution_count": 10,
   "id": "35e911fd",
   "metadata": {},
   "outputs": [
    {
     "name": "stdout",
     "output_type": "stream",
     "text": [
      "   customer_id   name  order_id product\n",
      "0            1  Alice       101  Laptop\n",
      "1            2    Bob       102  Tablet\n"
     ]
    }
   ],
   "source": [
    "result_1 = pd.merge(customers, orders, on='customer_id', how='inner')\n",
    "print(result_1)"
   ]
  },
  {
   "cell_type": "code",
   "execution_count": 12,
   "id": "ae3d5897",
   "metadata": {},
   "outputs": [
    {
     "name": "stdout",
     "output_type": "stream",
     "text": [
      "   customer_id     name  order_id product\n",
      "0            1    Alice     101.0  Laptop\n",
      "1            2      Bob     102.0  Tablet\n",
      "2            3  Charlie       NaN     NaN\n"
     ]
    }
   ],
   "source": [
    "result_2 = pd.merge(customers, orders, on='customer_id', how='left')\n",
    "print(result_2)"
   ]
  },
  {
   "cell_type": "code",
   "execution_count": 13,
   "id": "cf5d4fe4",
   "metadata": {},
   "outputs": [
    {
     "name": "stdout",
     "output_type": "stream",
     "text": [
      "   customer_id   name  order_id     product\n",
      "0            1  Alice       101      Laptop\n",
      "1            2    Bob       102      Tablet\n",
      "2            4    NaN       103  Smartphone\n"
     ]
    }
   ],
   "source": [
    "result_3 = pd.merge(customers, orders, on='customer_id', how='right')\n",
    "print(result_3)"
   ]
  },
  {
   "cell_type": "code",
   "execution_count": null,
   "id": "0e84ea32",
   "metadata": {},
   "outputs": [],
   "source": []
  },
  {
   "cell_type": "code",
   "execution_count": null,
   "id": "e0722bd2",
   "metadata": {},
   "outputs": [],
   "source": []
  },
  {
   "cell_type": "code",
   "execution_count": null,
   "id": "11bd5b98",
   "metadata": {},
   "outputs": [],
   "source": []
  },
  {
   "cell_type": "code",
   "execution_count": null,
   "id": "dcd7c8c8",
   "metadata": {},
   "outputs": [],
   "source": []
  }
 ],
 "metadata": {
  "kernelspec": {
   "display_name": "Python 3",
   "language": "python",
   "name": "python3"
  },
  "language_info": {
   "codemirror_mode": {
    "name": "ipython",
    "version": 3
   },
   "file_extension": ".py",
   "mimetype": "text/x-python",
   "name": "python",
   "nbconvert_exporter": "python",
   "pygments_lexer": "ipython3",
   "version": "3.13.4"
  }
 },
 "nbformat": 4,
 "nbformat_minor": 5
}
