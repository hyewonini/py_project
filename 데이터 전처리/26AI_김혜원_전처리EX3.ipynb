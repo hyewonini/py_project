{
 "cells": [
  {
   "cell_type": "code",
   "execution_count": 2,
   "id": "bcdd071b",
   "metadata": {},
   "outputs": [],
   "source": [
    "import pandas as pd\n",
    "\n",
    "# 1. diamonds.csv 파일 불러오기\n",
    "df = pd.read_csv('diamonds.csv')"
   ]
  },
  {
   "cell_type": "code",
   "execution_count": 3,
   "id": "d295d77c",
   "metadata": {},
   "outputs": [],
   "source": [
    "# 2. carat 열의 사분위수 계산\n",
    "Q1 = df['carat'].quantile(0.25)\n",
    "Q3 = df['carat'].quantile(0.75)\n",
    "IQR = Q3 - Q1"
   ]
  },
  {
   "cell_type": "code",
   "execution_count": 8,
   "id": "9cbe776b",
   "metadata": {},
   "outputs": [],
   "source": [
    "# 3. 이상치 경계 계산\n",
    "lower_bound = Q1 - 1.5 * IQR\n",
    "upper_bound = Q3 + 1.5 * IQR"
   ]
  },
  {
   "cell_type": "code",
   "execution_count": 7,
   "id": "fdf88d6d",
   "metadata": {},
   "outputs": [
    {
     "name": "stdout",
     "output_type": "stream",
     "text": [
      "이상치 경계\n",
      "하한 (Lower Bound) : -0.5599999999999999\n",
      "상한 (Upper Bound) : 2.0\n"
     ]
    }
   ],
   "source": [
    "print(f\"이상치 경계\")\n",
    "print(f\"하한 (Lower Bound) : {lower_bound}\")\n",
    "print(f\"상한 (Upper Bound) : {upper_bound}\")"
   ]
  },
  {
   "cell_type": "code",
   "execution_count": 9,
   "id": "c9ce0345",
   "metadata": {},
   "outputs": [],
   "source": [
    "# 4. 이상치 제거\n",
    "df_no_outliers = df[(df['carat'] >= lower_bound) & (df['carat'] <= upper_bound)]"
   ]
  },
  {
   "cell_type": "code",
   "execution_count": 10,
   "id": "77a94b95",
   "metadata": {},
   "outputs": [
    {
     "name": "stdout",
     "output_type": "stream",
     "text": [
      "이상치 제거 전 데이터 수: 53940\n",
      "이상치 제거 후 데이터 수: 52051\n",
      "제거된 이상치 수: 1889\n"
     ]
    }
   ],
   "source": [
    "# 5. 제거 전후 데이터 수 비교\n",
    "print(f\"이상치 제거 전 데이터 수: {len(df)}\")\n",
    "print(f\"이상치 제거 후 데이터 수: {len(df_no_outliers)}\")\n",
    "print(f\"제거된 이상치 수: {len(df) - len(df_no_outliers)}\")"
   ]
  }
 ],
 "metadata": {
  "kernelspec": {
   "display_name": "Python 3",
   "language": "python",
   "name": "python3"
  },
  "language_info": {
   "codemirror_mode": {
    "name": "ipython",
    "version": 3
   },
   "file_extension": ".py",
   "mimetype": "text/x-python",
   "name": "python",
   "nbconvert_exporter": "python",
   "pygments_lexer": "ipython3",
   "version": "3.13.4"
  }
 },
 "nbformat": 4,
 "nbformat_minor": 5
}
