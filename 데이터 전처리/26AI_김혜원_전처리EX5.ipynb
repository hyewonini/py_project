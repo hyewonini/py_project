{
 "cells": [
  {
   "cell_type": "code",
   "execution_count": 2,
   "id": "c9fb171e",
   "metadata": {},
   "outputs": [],
   "source": [
    "import pandas as pd\n",
    "from sklearn.preprocessing import StandardScaler\n",
    "\n",
    "# 1. 데이터 불러오기\n",
    "df = pd.read_csv('winequality-red.csv')\n"
   ]
  },
  {
   "cell_type": "code",
   "execution_count": 3,
   "id": "bffa53a7",
   "metadata": {},
   "outputs": [],
   "source": [
    "# 2. 스케일링 대상 열 선택\n",
    "features_to_scale = ['fixed acidity', 'volatile acidity', 'citric acid', 'residual sugar', 'chlorides']"
   ]
  },
  {
   "cell_type": "code",
   "execution_count": 4,
   "id": "ddf61d46",
   "metadata": {},
   "outputs": [],
   "source": [
    "# 3. StandardScaler 객체 생성\n",
    "scaler = StandardScaler()"
   ]
  },
  {
   "cell_type": "code",
   "execution_count": 5,
   "id": "86dcea92",
   "metadata": {},
   "outputs": [],
   "source": [
    "# 4. 스케일링 적용\n",
    "scaled_values = scaler.fit_transform(df[features_to_scale])"
   ]
  },
  {
   "cell_type": "code",
   "execution_count": 6,
   "id": "c73cf782",
   "metadata": {},
   "outputs": [],
   "source": [
    "# 5. 결과를 DataFrame으로 변환\n",
    "scaled_df = pd.DataFrame(scaled_values, columns=features_to_scale)"
   ]
  },
  {
   "cell_type": "code",
   "execution_count": null,
   "id": "efe6cacb",
   "metadata": {},
   "outputs": [
    {
     "name": "stdout",
     "output_type": "stream",
     "text": [
      "스케일링 결과:\n",
      "   fixed acidity  volatile acidity  citric acid  residual sugar  chlorides\n",
      "0      -0.528360          0.961877    -1.391472       -0.453218  -0.243707\n",
      "1      -0.298547          1.967442    -1.391472        0.043416   0.223875\n",
      "2      -0.298547          1.297065    -1.186070       -0.169427   0.096353\n",
      "3       1.654856         -1.384443     1.484154       -0.453218  -0.264960\n",
      "4      -0.528360          0.961877    -1.391472       -0.453218  -0.243707\n"
     ]
    }
   ],
   "source": [
    "# 6. 결과 확인s\n",
    "print(\"스케일링 결과:\")\n",
    "print(scaled_df.head())"
   ]
  }
 ],
 "metadata": {
  "kernelspec": {
   "display_name": "Python 3",
   "language": "python",
   "name": "python3"
  },
  "language_info": {
   "codemirror_mode": {
    "name": "ipython",
    "version": 3
   },
   "file_extension": ".py",
   "mimetype": "text/x-python",
   "name": "python",
   "nbconvert_exporter": "python",
   "pygments_lexer": "ipython3",
   "version": "3.13.4"
  }
 },
 "nbformat": 4,
 "nbformat_minor": 5
}
