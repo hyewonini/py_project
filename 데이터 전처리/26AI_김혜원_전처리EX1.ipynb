{
 "cells": [
  {
   "cell_type": "code",
   "execution_count": 2,
   "id": "8a0f9249",
   "metadata": {},
   "outputs": [],
   "source": [
    "import pandas as pd\n",
    "\n",
    "# 1. 데이터 불러오기\n",
    "df = pd.read_csv('train.csv')"
   ]
  },
  {
   "cell_type": "code",
   "execution_count": 3,
   "id": "2d87cf52",
   "metadata": {},
   "outputs": [],
   "source": [
    "# 결측치 처리\n",
    "df['Age'] = df['Age'].fillna(df['Age'].mean())                      # 평균값으로 대체\n",
    "df['Embarked'] = df['Embarked'].fillna(df['Embarked'].mode()[0])    # 최빈값으로 대체\n",
    "df = df.drop('Cabin', axis=1)                                       # Cabin 열 삭제"
   ]
  },
  {
   "cell_type": "code",
   "execution_count": 4,
   "id": "ded69998",
   "metadata": {},
   "outputs": [
    {
     "name": "stdout",
     "output_type": "stream",
     "text": [
      "각 열의 결측치 개수:\n",
      "PassengerId    0\n",
      "Survived       0\n",
      "Pclass         0\n",
      "Name           0\n",
      "Sex            0\n",
      "Age            0\n",
      "SibSp          0\n",
      "Parch          0\n",
      "Ticket         0\n",
      "Fare           0\n",
      "Embarked       0\n",
      "dtype: int64\n"
     ]
    }
   ],
   "source": [
    "# 결측치 확인\n",
    "missing_check = df.isnull().sum()\n",
    "print(\"각 열의 결측치 개수:\")\n",
    "print(missing_check)\n"
   ]
  },
  {
   "cell_type": "code",
   "execution_count": 5,
   "id": "de44b783",
   "metadata": {},
   "outputs": [
    {
     "name": "stdout",
     "output_type": "stream",
     "text": [
      "모든 결측치가 성공적으로 처리되었습니다\n"
     ]
    }
   ],
   "source": [
    "if missing_check.sum() == 0:\n",
    "    print(\"모든 결측치가 성공적으로 처리되었습니다\")\n",
    "else:\n",
    "    print(\"아직 결측치가 존재합니다\")"
   ]
  }
 ],
 "metadata": {
  "kernelspec": {
   "display_name": "Python 3",
   "language": "python",
   "name": "python3"
  },
  "language_info": {
   "codemirror_mode": {
    "name": "ipython",
    "version": 3
   },
   "file_extension": ".py",
   "mimetype": "text/x-python",
   "name": "python",
   "nbconvert_exporter": "python",
   "pygments_lexer": "ipython3",
   "version": "3.13.4"
  }
 },
 "nbformat": 4,
 "nbformat_minor": 5
}
