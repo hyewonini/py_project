{
 "cells": [
  {
   "cell_type": "code",
   "execution_count": 4,
   "id": "df4a9682",
   "metadata": {},
   "outputs": [],
   "source": [
    "import pandas as pd\n",
    "from sklearn.preprocessing import LabelEncoder\n",
    "\n",
    "# 1. 데이터 불러오기\n",
    "df = pd.read_csv(\"adult.csv\")"
   ]
  },
  {
   "cell_type": "code",
   "execution_count": 5,
   "id": "db0ae4d1",
   "metadata": {},
   "outputs": [],
   "source": [
    "# 2. 인코딩할 열 리스트 지정\n",
    "cols_to_encode = ['workclass', 'education', 'marital-status', 'occupation', 'relationship', 'race', 'gender', 'native-country']"
   ]
  },
  {
   "cell_type": "code",
   "execution_count": 6,
   "id": "097d3fd2",
   "metadata": {},
   "outputs": [],
   "source": [
    "# 3. LabelEncoder 생성\n",
    "le = LabelEncoder()"
   ]
  },
  {
   "cell_type": "code",
   "execution_count": 7,
   "id": "015ab974",
   "metadata": {},
   "outputs": [],
   "source": [
    "# 4. 각 열에 대해 Label Encoding 수행\n",
    "for col in cols_to_encode:\n",
    "    df[col] = le.fit_transform(df[col])"
   ]
  },
  {
   "cell_type": "code",
   "execution_count": 8,
   "id": "153e7746",
   "metadata": {},
   "outputs": [
    {
     "name": "stdout",
     "output_type": "stream",
     "text": [
      "인코딩 결과\n",
      "   workclass  education  marital-status  occupation  relationship  race  \\\n",
      "0          4          1               4           7             3     2   \n",
      "1          4         11               2           5             0     4   \n",
      "2          2          7               2          11             0     4   \n",
      "3          4         15               2           7             0     2   \n",
      "4          0         15               4           0             3     4   \n",
      "\n",
      "   gender  native-country  \n",
      "0       1              39  \n",
      "1       1              39  \n",
      "2       1              39  \n",
      "3       1              39  \n",
      "4       0              39  \n"
     ]
    }
   ],
   "source": [
    "# 5. 결과 출력\n",
    "print(\"인코딩 결과\")\n",
    "print(df[cols_to_encode].head())"
   ]
  }
 ],
 "metadata": {
  "kernelspec": {
   "display_name": "Python 3",
   "language": "python",
   "name": "python3"
  },
  "language_info": {
   "codemirror_mode": {
    "name": "ipython",
    "version": 3
   },
   "file_extension": ".py",
   "mimetype": "text/x-python",
   "name": "python",
   "nbconvert_exporter": "python",
   "pygments_lexer": "ipython3",
   "version": "3.13.4"
  }
 },
 "nbformat": 4,
 "nbformat_minor": 5
}
